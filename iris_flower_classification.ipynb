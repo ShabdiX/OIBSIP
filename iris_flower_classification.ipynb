{
  "nbformat": 4,
  "nbformat_minor": 0,
  "metadata": {
    "colab": {
      "private_outputs": true,
      "provenance": []
    },
    "kernelspec": {
      "name": "python3",
      "display_name": "Python 3"
    },
    "language_info": {
      "name": "python"
    }
  },
  "cells": [
    {
      "cell_type": "code",
      "execution_count": null,
      "metadata": {
        "id": "TgjV1XVvs1zn"
      },
      "outputs": [],
      "source": [
        "from google.colab import files\n",
        "uploaded = files.upload()\n"
      ]
    },
    {
      "cell_type": "code",
      "source": [
        "import pandas as pd\n",
        "data = pd.read_csv(\"archive (1).zip\")\n",
        "data.head()\n"
      ],
      "metadata": {
        "id": "CvRVzkPZwJZ4"
      },
      "execution_count": null,
      "outputs": []
    },
    {
      "cell_type": "code",
      "source": [
        "data.info() #Exploratory Data Analysis\n"
      ],
      "metadata": {
        "id": "TYZ0NGWOwov1"
      },
      "execution_count": null,
      "outputs": []
    },
    {
      "cell_type": "code",
      "source": [
        "data.isnull().sum()\n"
      ],
      "metadata": {
        "id": "Xu5s6svfw6nT"
      },
      "execution_count": null,
      "outputs": []
    },
    {
      "cell_type": "code",
      "source": [
        "data.shape\n"
      ],
      "metadata": {
        "id": "IeC0QsJ9xB2a"
      },
      "execution_count": null,
      "outputs": []
    },
    {
      "cell_type": "code",
      "source": [
        "data['Species'].value_counts()\n"
      ],
      "metadata": {
        "id": "dPD0I3kwxHuS"
      },
      "execution_count": null,
      "outputs": []
    },
    {
      "cell_type": "code",
      "source": [
        "# data visualization with graph\n",
        "\n",
        "import matplotlib.pyplot as plt\n",
        "import seaborn as sns\n"
      ],
      "metadata": {
        "id": "VxdTDdCVxoJg"
      },
      "execution_count": null,
      "outputs": []
    },
    {
      "cell_type": "code",
      "source": [
        "#Visualize Count of Each Iris Flower Species\n",
        "\n",
        "sns.countplot(x='Species', data=data)\n",
        "plt.title(\"Count of Each Iris Species\")\n",
        "plt.show()\n"
      ],
      "metadata": {
        "id": "EaMgoq-cyBAR"
      },
      "execution_count": null,
      "outputs": []
    },
    {
      "cell_type": "code",
      "source": [
        "#Pairplot – Compare All Features\n",
        "\n",
        "sns.pairplot(data, hue='Species')\n",
        "plt.suptitle(\"Pairplot of Iris Features\", y=1.02)    # yeh graph help karta h dekhne ki kaunsi species kis feature par clear separation deti hai.\n",
        "plt.show()\n"
      ],
      "metadata": {
        "id": "1tlve0U9yXy4"
      },
      "execution_count": null,
      "outputs": []
    },
    {
      "cell_type": "code",
      "source": [
        "import matplotlib.pyplot as plt\n",
        "import seaborn as sns\n",
        "\n",
        "# Only selecting numerical columns\n",
        "numeric_data = data.select_dtypes(include=['float64', 'int64'])\n",
        "\n",
        "plt.figure(figsize=(8,6))\n",
        "sns.heatmap(numeric_data.corr(), annot=True, cmap='YlGnBu')\n",
        "plt.title(\"Correlation Matrix\")\n",
        "plt.show()\n",
        "\n",
        "#data.select_dtypes() se hum sirf numeric columns le rahe hain — kyunki heatmap categorical columns (jaise \"Species\") ke saath error deta hai.\n",
        "#Yeh safe aur accurate method hai.\n",
        "\n"
      ],
      "metadata": {
        "id": "8kGHBewuykds"
      },
      "execution_count": null,
      "outputs": []
    },
    {
      "cell_type": "code",
      "source": [
        "#hum ek Logistic Regression model banayenge jo predict karega ki koi flower kaunsi species ka hai — based on features like petal length, width etc.\n",
        "\n",
        "#Model Building (Machine Learning Model Banana)\n",
        "\n",
        "X = data.drop('Species', axis=1)  # Features\n",
        "y = data['Species']               # Labels\n",
        "\n",
        "\n"
      ],
      "metadata": {
        "id": "D2GVNyzDz3HH"
      },
      "execution_count": null,
      "outputs": []
    },
    {
      "cell_type": "code",
      "source": [
        "# data splitting (eh code 80% data training ke liye, 20% testing ke liye split karega.)\n",
        "\n",
        "from sklearn.model_selection import train_test_split\n",
        "\n",
        "X_train, X_test, y_train, y_test = train_test_split(X, y, test_size=0.2, random_state=42)\n"
      ],
      "metadata": {
        "id": "6wjO2Te_0WOs"
      },
      "execution_count": null,
      "outputs": []
    },
    {
      "cell_type": "code",
      "source": [
        "#Logistic Regression model train\n",
        "from sklearn.linear_model import LogisticRegression\n",
        "\n",
        "model = LogisticRegression()\n",
        "model.fit(X_train, y_train)\n"
      ],
      "metadata": {
        "id": "Cco97NXG0ruU"
      },
      "execution_count": null,
      "outputs": []
    },
    {
      "cell_type": "code",
      "source": [
        "y_pred = model.predict(X_test)\n",
        "\n",
        "# data test prediction"
      ],
      "metadata": {
        "id": "ARIkP2uc06TZ"
      },
      "execution_count": null,
      "outputs": []
    },
    {
      "cell_type": "code",
      "source": [
        "from sklearn.metrics import accuracy_score\n",
        "\n",
        "accuracy = accuracy_score(y_test, y_pred)\n",
        "print(\"Model Accuracy:\", accuracy)\n",
        "\n",
        "#cheaking the accuracy"
      ],
      "metadata": {
        "id": "V8Remf4O2FIu"
      },
      "execution_count": null,
      "outputs": []
    },
    {
      "cell_type": "code",
      "source": [
        "from sklearn.metrics import classification_report\n",
        "\n",
        "print(classification_report(y_test, y_pred))\n",
        "\n",
        "#Classification Report\n",
        "#Classification report se hume har flower species ka precision, recall aur F1-score pata chalta hai.”"
      ],
      "metadata": {
        "id": "3tlon7OM2OY5"
      },
      "execution_count": null,
      "outputs": []
    },
    {
      "cell_type": "code",
      "source": [
        "from sklearn.metrics import confusion_matrix\n",
        "import seaborn as sns\n",
        "import matplotlib.pyplot as plt\n",
        "\n",
        "cm = confusion_matrix(y_test, y_pred)\n",
        "\n",
        "plt.figure(figsize=(6,4))\n",
        "sns.heatmap(cm, annot=True, fmt=\"d\", cmap=\"Purples\")\n",
        "plt.title(\"Confusion Matrix\")\n",
        "plt.xlabel(\"Predicted\")\n",
        "plt.ylabel(\"Actual\")\n",
        "plt.show()\n",
        "\n",
        "#confusion matrix,Confusion Matrix dikhata hai kitne correct aur incorrect predictions hu"
      ],
      "metadata": {
        "id": "Iaqsublo2pmM"
      },
      "execution_count": null,
      "outputs": []
    },
    {
      "cell_type": "code",
      "source": [],
      "metadata": {
        "id": "l2boEbPZ253F"
      },
      "execution_count": null,
      "outputs": []
    }
  ]
}