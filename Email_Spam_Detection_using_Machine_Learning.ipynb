{
  "nbformat": 4,
  "nbformat_minor": 0,
  "metadata": {
    "colab": {
      "private_outputs": true,
      "provenance": []
    },
    "kernelspec": {
      "name": "python3",
      "display_name": "Python 3"
    },
    "language_info": {
      "name": "python"
    }
  },
  "cells": [
    {
      "cell_type": "code",
      "execution_count": null,
      "metadata": {
        "id": "C_rSk4Y3WEmN"
      },
      "outputs": [],
      "source": [
        "from google.colab import files\n",
        "uploaded = files.upload()\n"
      ]
    },
    {
      "cell_type": "code",
      "source": [
        "import pandas as pd\n",
        "import numpy as np\n"
      ],
      "metadata": {
        "id": "Lyo03R9IWinU"
      },
      "execution_count": null,
      "outputs": []
    },
    {
      "cell_type": "code",
      "source": [
        "data = pd.read_csv(\"spam.csv\", encoding='latin-1')\n",
        "data.head()\n"
      ],
      "metadata": {
        "id": "XHA51EeHWwZI"
      },
      "execution_count": null,
      "outputs": []
    },
    {
      "cell_type": "code",
      "source": [
        "data.head()\n"
      ],
      "metadata": {
        "id": "dCDja59Vg2b6"
      },
      "execution_count": null,
      "outputs": []
    },
    {
      "cell_type": "code",
      "source": [
        "# Convert text labels to binary values\n",
        "data['label'] = data['label'].map({'ham': 0, 'spam': 1})\n",
        "\n",
        "# Drop any rows with NaN values in label column (just in case)\n",
        "data.dropna(subset=['label'], inplace=True)\n"
      ],
      "metadata": {
        "id": "-hRxfSA0hOfY"
      },
      "execution_count": null,
      "outputs": []
    },
    {
      "cell_type": "code",
      "source": [
        "from sklearn.feature_extraction.text import CountVectorizer\n",
        "from sklearn.model_selection import train_test_split\n",
        "from sklearn.naive_bayes import MultinomialNB\n",
        "from sklearn.metrics import accuracy_score, classification_report\n",
        "\n",
        "# Importing necessary libraries\n"
      ],
      "metadata": {
        "id": "cG4EBSsvhQh4"
      },
      "execution_count": null,
      "outputs": []
    },
    {
      "cell_type": "code",
      "source": [
        "# Initialize the vectorizer\n",
        "vectorizer = CountVectorizer()\n",
        "\n",
        "# Transform the text data into numerical vectors\n",
        "X = vectorizer.fit_transform(data['message'])\n",
        "\n",
        "# Labels\n",
        "y = data['label']\n",
        "\n",
        "#Vectorizeing the text messages\n"
      ],
      "metadata": {
        "id": "pK2FXN7RhWss"
      },
      "execution_count": null,
      "outputs": []
    },
    {
      "cell_type": "code",
      "source": [
        "X_train, X_test, y_train, y_test = train_test_split(X, y, test_size=0.2, random_state=42)\n",
        "\n",
        "#Spliting the dataset into training and testing\n"
      ],
      "metadata": {
        "id": "9r_3tVMGhbtt"
      },
      "execution_count": null,
      "outputs": []
    },
    {
      "cell_type": "code",
      "source": [
        "# Initialize the model\n",
        "model = MultinomialNB()\n",
        "\n",
        "# Fit the model\n",
        "model.fit(X_train, y_train)\n",
        "\n",
        "#Train the model"
      ],
      "metadata": {
        "id": "xup2fbt9hfq7"
      },
      "execution_count": null,
      "outputs": []
    },
    {
      "cell_type": "code",
      "source": [
        "# Predictions\n",
        "y_pred = model.predict(X_test)\n",
        "\n",
        "# Accuracy and report\n",
        "print(\"Accuracy:\", accuracy_score(y_test, y_pred))\n",
        "print(\"Classification Report:\\n\", classification_report(y_test, y_pred))\n",
        "\n",
        "#Evaluate the model\n"
      ],
      "metadata": {
        "id": "VG7vym3_hkSL"
      },
      "execution_count": null,
      "outputs": []
    },
    {
      "cell_type": "code",
      "source": [
        "import matplotlib.pyplot as plt\n",
        "from sklearn.metrics import ConfusionMatrixDisplay\n",
        "\n",
        "ConfusionMatrixDisplay.from_estimator(model, X_test, y_test, cmap='Blues')\n",
        "plt.title(\"Confusion Matrix\")\n",
        "plt.show()\n",
        "\n",
        "#Confusion Matrix Visualization:\n"
      ],
      "metadata": {
        "id": "M6TbzGH8hoNl"
      },
      "execution_count": null,
      "outputs": []
    },
    {
      "cell_type": "code",
      "source": [
        "import joblib\n",
        "joblib.dump(model, \"spam_model.pkl\")  # This saves your model\n"
      ],
      "metadata": {
        "id": "KPM11U12i0rR"
      },
      "execution_count": null,
      "outputs": []
    },
    {
      "cell_type": "code",
      "source": [
        "sample_msg = [\"Congratulations! You've won a free iPhone. Click here to claim.\"]\n",
        "sample_vect = vectorizer.transform(sample_msg)\n",
        "prediction = model.predict(sample_vect)\n",
        "print(\"Spam\" if prediction[0] == 1 else \"Ham\")      #test on custom input\n"
      ],
      "metadata": {
        "id": "nBf0qjJVi9Ok"
      },
      "execution_count": null,
      "outputs": []
    }
  ]
}